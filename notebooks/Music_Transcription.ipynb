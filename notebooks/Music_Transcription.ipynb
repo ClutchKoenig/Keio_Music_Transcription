{
 "cells": [
  {
   "cell_type": "code",
   "execution_count": null,
   "metadata": {
    "colab": {
     "base_uri": "https://localhost:8080/"
    },
    "executionInfo": {
     "elapsed": 14699,
     "status": "ok",
     "timestamp": 1752482063877,
     "user": {
      "displayName": "Thomas Bauer",
      "userId": "08781534889896920420"
     },
     "user_tz": -540
    },
    "id": "8LHc7Jo1c6Qp",
    "outputId": "069e938c-3f35-4bd5-95f2-cdf851da8056"
   },
   "outputs": [],
   "source": [
    "!sudo apt-get update -y\n",
    "!sudo apt-get install python3.10 python3.10-venv python3.10-distutils -y"
   ]
  },
  {
   "cell_type": "code",
   "execution_count": null,
   "metadata": {
    "colab": {
     "base_uri": "https://localhost:8080/"
    },
    "collapsed": true,
    "executionInfo": {
     "elapsed": 10877,
     "status": "ok",
     "timestamp": 1752482074772,
     "user": {
      "displayName": "Thomas Bauer",
      "userId": "08781534889896920420"
     },
     "user_tz": -540
    },
    "id": "Natv_qthfcg0",
    "outputId": "2328af98-6362-414d-9859-8c11dde8c37b"
   },
   "outputs": [],
   "source": [
    "!python3.10 -m venv /content/music_venv310\n",
    "!/content/music_venv310/bin/python -m ensurepip\n",
    "!/content/music_venv310/bin/pip install --upgrade pip"
   ]
  },
  {
   "cell_type": "code",
   "execution_count": null,
   "metadata": {
    "colab": {
     "base_uri": "https://localhost:8080/"
    },
    "collapsed": true,
    "executionInfo": {
     "elapsed": 88056,
     "status": "ok",
     "timestamp": 1752482162832,
     "user": {
      "displayName": "Thomas Bauer",
      "userId": "08781534889896920420"
     },
     "user_tz": -540
    },
    "id": "Dt4M4ydcfyZ4",
    "outputId": "ceb6a697-4a58-48ff-fe03-52ada4c8cd1c"
   },
   "outputs": [],
   "source": [
    "!/content/music_venv310/bin/pip install basic-pitch[tf]"
   ]
  },
  {
   "cell_type": "code",
   "execution_count": null,
   "metadata": {
    "colab": {
     "base_uri": "https://localhost:8080/"
    },
    "collapsed": true,
    "executionInfo": {
     "elapsed": 74969,
     "status": "ok",
     "timestamp": 1752482237826,
     "user": {
      "displayName": "Thomas Bauer",
      "userId": "08781534889896920420"
     },
     "user_tz": -540
    },
    "id": "8FZBpcTwgDMU",
    "outputId": "5e276368-8a60-4fc4-a77a-335ff24990f5"
   },
   "outputs": [],
   "source": [
    "!/content/music_venv310/bin/pip install librosa music21 spleeter noisereduce optuna optuna-dashboard flask flask_cors pyngrok"
   ]
  },
  {
   "cell_type": "code",
   "execution_count": null,
   "metadata": {
    "colab": {
     "base_uri": "https://localhost:8080/"
    },
    "collapsed": true,
    "executionInfo": {
     "elapsed": 62138,
     "status": "ok",
     "timestamp": 1752482299971,
     "user": {
      "displayName": "Thomas Bauer",
      "userId": "08781534889896920420"
     },
     "user_tz": -540
    },
    "id": "xGh5NtVqgrOb",
    "outputId": "3e2f0811-a6f9-48ce-d42b-91836d16a06b"
   },
   "outputs": [],
   "source": [
    "!/content/music_venv310/bin/pip install tensorflow==2.15.0 --force-reinstall --upgrade"
   ]
  },
  {
   "cell_type": "code",
   "execution_count": null,
   "metadata": {
    "colab": {
     "base_uri": "https://localhost:8080/"
    },
    "collapsed": true,
    "executionInfo": {
     "elapsed": 1826,
     "status": "ok",
     "timestamp": 1752482301807,
     "user": {
      "displayName": "Thomas Bauer",
      "userId": "08781534889896920420"
     },
     "user_tz": -540
    },
    "id": "Ibx_Lnrmjv3o",
    "outputId": "842a73e2-2adb-426d-8623-9dfbf0d8be96"
   },
   "outputs": [],
   "source": [
    "!/content/music_venv310/bin/pip list\n",
    "!/content/music_venv310/bin/pip check"
   ]
  },
  {
   "cell_type": "code",
   "execution_count": null,
   "metadata": {
    "colab": {
     "base_uri": "https://localhost:8080/"
    },
    "collapsed": true,
    "executionInfo": {
     "elapsed": 16004,
     "status": "ok",
     "timestamp": 1752484518749,
     "user": {
      "displayName": "Thomas Bauer",
      "userId": "08781534889896920420"
     },
     "user_tz": -540
    },
    "id": "2SoEPJW_jSsV",
    "outputId": "6b131dc3-f488-4d36-bfbd-035741694cb8"
   },
   "outputs": [],
   "source": [
    "!git clone https://github.com/ClutchKoenig/Keio_Music_Transcription\n",
    "!mkdir -p /content/Keio_Music_Transcription/pretrained_models/5stems/\n",
    "%cd /content/Keio_Music_Transcription/pretrained_models/5stems/\n",
    "!wget https://github.com/deezer/spleeter/releases/download/v1.4.0/5stems.tar.gz\n",
    "!tar -xvzf 5stems.tar.gz\n",
    "!rm 5stems.tar.gz\n",
    "%cd /content/Keio_Music_Transcription\n",
    "!curl -sSL https://ngrok-agent.s3.amazonaws.com/ngrok.asc \\\n",
    "  | sudo tee /etc/apt/trusted.gpg.d/ngrok.asc >/dev/null \\\n",
    "  && echo \"deb https://ngrok-agent.s3.amazonaws.com buster main\" \\\n",
    "  | sudo tee /etc/apt/sources.list.d/ngrok.list \\\n",
    "  && sudo apt update \\\n",
    "  && sudo apt install ngrok\n",
    "!ngrok config add-authtoken 2zb8QIvT5L0FrkUDrSQs2rzXiGh_4UrnZUWbiyCKMDbCGo2Li"
   ]
  },
  {
   "cell_type": "code",
   "execution_count": null,
   "metadata": {
    "id": "C-w8-aXfDcxA"
   },
   "outputs": [],
   "source": [
    "!/content/music_venv310/bin/python3.10 app.py"
   ]
  },
  {
   "cell_type": "markdown",
   "metadata": {
    "id": "TBrT1Z0sqKiz"
   },
   "source": [
    "# Optimization using a audio file and a ground truth MIDI file\n"
   ]
  },
  {
   "cell_type": "code",
   "execution_count": null,
   "metadata": {
    "collapsed": true,
    "id": "LOYNUK9AoFq7"
   },
   "outputs": [],
   "source": [
    "!/content/music_venv310/bin/python3.10 src/utils/model_optimizer.py --optimize --minimum_overlap 0.7 --search_space_onset_threshold 0.3 0.7 --search_space_minimum_note_length 60 150 --search_space_frame_threshold 0.35 0.7 --experiment_name experiment33 --audio_path Fools_Joy.mp3 --gt_midi Fools_Joy.midi\n",
    "# Can be useful to optimize parameters for different instrument types"
   ]
  },
  {
   "cell_type": "code",
   "execution_count": null,
   "metadata": {
    "id": "96CYpDnOqJOX"
   },
   "outputs": [],
   "source": [
    "#!/content/music_venv310/bin/python3.10 src/utils/split.py Final-Duet.mp3 --nb_stems 5"
   ]
  },
  {
   "cell_type": "code",
   "execution_count": null,
   "metadata": {
    "id": "Yy3w2s-RtTlc"
   },
   "outputs": [],
   "source": [
    "#!/content/music_venv310/bin/python3.10 src/utils/split.py src/data/Teufelskreis.mp3 --nb_stems 5"
   ]
  },
  {
   "cell_type": "code",
   "execution_count": null,
   "metadata": {
    "id": "25NLcuOIXdGR"
   },
   "outputs": [],
   "source": [
    "#!/content/music_venv310/bin/python3.10 Test.py other.wav output/pred_other.mid"
   ]
  },
  {
   "cell_type": "markdown",
   "metadata": {
    "id": "hMWAenhXqinW"
   },
   "source": [
    "This environment seems to work for splitting sounds into different instrument lines!!!"
   ]
  },
  {
   "cell_type": "markdown",
   "metadata": {
    "id": "n4fF1p_gQgYA"
   },
   "source": [
    "# Test of run_model.py"
   ]
  },
  {
   "cell_type": "code",
   "execution_count": null,
   "metadata": {
    "id": "izJN6jsN_XVP"
   },
   "outputs": [],
   "source": [
    "!/content/music_venv310/bin/python3.10 src/run_model.py"
   ]
  }
 ],
 "metadata": {
  "colab": {
   "provenance": []
  },
  "kernelspec": {
   "display_name": "Python 3",
   "name": "python3"
  },
  "language_info": {
   "name": "python"
  }
 },
 "nbformat": 4,
 "nbformat_minor": 0
}
