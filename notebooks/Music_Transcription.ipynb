{
  "cells": [
    {
      "cell_type": "code",
      "execution_count": null,
      "metadata": {
        "colab": {
          "base_uri": "https://localhost:8080/",
          "height": 0
        },
        "collapsed": true,
        "id": "8LHc7Jo1c6Qp",
        "outputId": "6aa9146a-f93b-4303-d6d3-cd3bafed8a64"
      },
      "outputs": [],
      "source": [
        "!sudo apt-get update -y\n",
        "!sudo apt-get install python3.10 python3.10-venv python3.10-distutils -y"
      ]
    },
    {
      "cell_type": "code",
      "execution_count": null,
      "metadata": {
        "colab": {
          "base_uri": "https://localhost:8080/",
          "height": 0
        },
        "collapsed": true,
        "id": "Natv_qthfcg0",
        "outputId": "fa8be004-5fdf-4089-90e4-90f381337a93"
      },
      "outputs": [],
      "source": [
        "!python3.10 -m venv /content/music_venv310\n",
        "# Aktiviere pip im venv\n",
        "!/content/music_venv310/bin/python -m ensurepip\n",
        "!/content/music_venv310/bin/pip install --upgrade pip"
      ]
    },
    {
      "cell_type": "code",
      "execution_count": null,
      "metadata": {
        "colab": {
          "base_uri": "https://localhost:8080/",
          "height": 0
        },
        "collapsed": true,
        "id": "Dt4M4ydcfyZ4",
        "outputId": "0e5bd847-de9b-431e-a2f1-1f63bddc8539"
      },
      "outputs": [],
      "source": [
        "!/content/music_venv310/bin/pip install basic-pitch[tf]"
      ]
    },
    {
      "cell_type": "code",
      "execution_count": null,
      "metadata": {
        "colab": {
          "base_uri": "https://localhost:8080/",
          "height": 0
        },
        "collapsed": true,
        "id": "8FZBpcTwgDMU",
        "outputId": "f71e1404-c1bf-49aa-eec5-162bb156e182"
      },
      "outputs": [],
      "source": [
        "!/content/music_venv310/bin/pip install librosa music21 spleeter noisereduce optuna optuna-dashboard"
      ]
    },
    {
      "cell_type": "code",
      "execution_count": null,
      "metadata": {
        "colab": {
          "base_uri": "https://localhost:8080/",
          "height": 0
        },
        "collapsed": true,
        "id": "xGh5NtVqgrOb",
        "outputId": "e1450e3e-65e1-443f-bbcb-a7cc3dc5b01b"
      },
      "outputs": [],
      "source": [
        "!/content/music_venv310/bin/pip install tensorflow==2.15.0 --force-reinstall --upgrade"
      ]
    },
    {
      "cell_type": "code",
      "execution_count": null,
      "metadata": {
        "colab": {
          "base_uri": "https://localhost:8080/",
          "height": 0
        },
        "collapsed": true,
        "id": "Ibx_Lnrmjv3o",
        "outputId": "a553da65-c37c-4e72-f6cd-d88cfe30c523"
      },
      "outputs": [],
      "source": [
        "!/content/music_venv310/bin/pip list\n",
        "!/content/music_venv310/bin/pip check"
      ]
    },
    {
      "cell_type": "code",
      "execution_count": null,
      "metadata": {
        "colab": {
          "base_uri": "https://localhost:8080/",
          "height": 0
        },
        "collapsed": true,
        "id": "2SoEPJW_jSsV",
        "outputId": "b11e9bf9-c9b0-4fde-b931-1c08a47ab866"
      },
      "outputs": [],
      "source": [
        "!git clone https://github.com/ClutchKoenig/Keio_Music_Transcription\n",
        "!mkdir -p /content/Keio_Music_Transcription/pretrained_models/5stems/\n",
        "%cd /content/Keio_Music_Transcription/pretrained_models/5stems/\n",
        "!wget https://github.com/deezer/spleeter/releases/download/v1.4.0/5stems.tar.gz\n",
        "!tar -xvzf 5stems.tar.gz\n",
        "!rm 5stems.tar.gz\n",
        "%cd /content/Keio_Music_Transcription"
      ]
    },
    {
      "cell_type": "code",
      "execution_count": null,
      "metadata": {
        "colab": {
          "base_uri": "https://localhost:8080/",
          "height": 0
        },
        "id": "C-w8-aXfDcxA",
        "outputId": "663d25d9-4a2d-4d76-84d1-030a1a12b246"
      },
      "outputs": [],
      "source": [
        "!/content/music_venv310/bin/python3.10 src/run_model.py song_name.mp3\n",
        "\n",
        "# To run, put your audio file into the main directory and type\n",
        "# its name into main fnc run_model.py"
      ]
    },
    {
      "cell_type": "markdown",
      "metadata": {
        "id": "TBrT1Z0sqKiz"
      },
      "source": [
        "# Optimization using a audio file and a ground truth MIDI file\n"
      ]
    },
    {
      "cell_type": "code",
      "execution_count": null,
      "metadata": {
        "colab": {
          "base_uri": "https://localhost:8080/"
        },
        "collapsed": true,
        "id": "LOYNUK9AoFq7",
        "outputId": "435f412b-3785-43da-9dd5-ae0da6f6ac45"
      },
      "outputs": [],
      "source": [
        "!/content/music_venv310/bin/python3.10 src/utils/model_optimizer.py --optimize --minimum_overlap 0.7 --search_space_onset_threshold 0.3 0.7 --search_space_minimum_note_length 60 150 --search_space_frame_threshold 0.35 0.7 --experiment_name experiment33 --audio_path Fools_Joy.mp3 --gt_midi Fools_Joy.midi\n",
        "# Can be useful to optimize parameters for different instrument types"
      ]
    },
    {
      "cell_type": "code",
      "execution_count": null,
      "metadata": {
        "id": "96CYpDnOqJOX"
      },
      "outputs": [],
      "source": [
        "#!/content/music_venv310/bin/python3.10 src/utils/split.py Final-Duet.mp3 --nb_stems 5"
      ]
    },
    {
      "cell_type": "code",
      "execution_count": null,
      "metadata": {
        "id": "Yy3w2s-RtTlc"
      },
      "outputs": [],
      "source": [
        "#!/content/music_venv310/bin/python3.10 src/utils/split.py src/data/Teufelskreis.mp3 --nb_stems 5"
      ]
    },
    {
      "cell_type": "code",
      "execution_count": null,
      "metadata": {
        "id": "25NLcuOIXdGR"
      },
      "outputs": [],
      "source": [
        "#!/content/music_venv310/bin/python3.10 Test.py other.wav output/pred_other.mid"
      ]
    },
    {
      "cell_type": "markdown",
      "metadata": {
        "id": "hMWAenhXqinW"
      },
      "source": [
        "This environment seems to work for splitting sounds into different instrument lines!!!"
      ]
    },
    {
      "cell_type": "markdown",
      "metadata": {
        "id": "n4fF1p_gQgYA"
      },
      "source": [
        "# Test of run_model.py"
      ]
    },
    {
      "cell_type": "code",
      "execution_count": null,
      "metadata": {
        "colab": {
          "base_uri": "https://localhost:8080/"
        },
        "id": "izJN6jsN_XVP",
        "outputId": "c92f18cf-812d-466e-fa7d-0c8b467cc325"
      },
      "outputs": [],
      "source": [
        "!/content/music_venv310/bin/python3.10 src/run_model.py"
      ]
    }
  ],
  "metadata": {
    "colab": {
      "provenance": []
    },
    "kernelspec": {
      "display_name": "Python 3",
      "name": "python3"
    },
    "language_info": {
      "name": "python"
    }
  },
  "nbformat": 4,
  "nbformat_minor": 0
}
