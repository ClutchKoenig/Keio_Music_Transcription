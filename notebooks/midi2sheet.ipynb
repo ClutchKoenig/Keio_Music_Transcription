{
 "cells": [
  {
   "cell_type": "code",
   "execution_count": 1,
   "metadata": {},
   "outputs": [
    {
     "name": "stdout",
     "output_type": "stream",
     "text": [
      "{'directoryScratch': None, 'lilypondPath': '/usr/bin/lilypond', 'lilypondVersion': None, 'lilypondFormat': 'pdf', 'lilypondBackend': 'ps', 'musicxmlPath': '/usr/bin/musescore3', 'midiPath': None, 'graphicsPath': '/usr/bin/xdg-open', 'vectorPath': None, 'pdfPath': '/usr/bin/xdg-open', 'braillePath': None, 'musescoreDirectPNGPath': '/usr/bin/mscore3', 'showFormat': 'musicxml', 'writeFormat': 'musicxml', 'ipythonShowFormat': 'ipython.musicxml.png', 'autoDownload': 'ask', 'debug': '0', 'warnings': '1', 'localCorpusSettings': LocalCorpusSettings([]), 'localCorporaSettings': {}, 'manualCoreCorpusPath': None}\n"
     ]
    }
   ],
   "source": [
    "from music21 import converter, environment, tempo, metadata\n",
    "import os\n",
    "import glob\n",
    "from PIL import Image\n",
    "\n",
    "us = environment.UserSettings()\n",
    "us['musicxmlPath'] = '/usr/bin/musescore3'\n",
    "\n",
    "print(environment.UserSettings())"
   ]
  },
  {
   "cell_type": "code",
   "execution_count": 2,
   "metadata": {},
   "outputs": [],
   "source": [
    "def add_margins_and_white_bg(image_path, top=20, right=60, bottom=20, left=60):\n",
    "    img = Image.open(image_path).convert(\"RGBA\")\n",
    "    new_width = img.width + left + right\n",
    "    new_height = img.height + top + bottom\n",
    "    background = Image.new(\"RGBA\", (new_width, new_height), (255, 255, 255, 255))\n",
    "    background.paste(img, (left, top), mask=img)\n",
    "    background.convert(\"RGB\").save(image_path, \"PNG\")\n",
    "\n",
    "def fix_all_images(png_prefix):\n",
    "    png_files = sorted(glob.glob(f\"{png_prefix}-*.png\"))\n",
    "    if os.path.exists(f\"{png_prefix}.png\"):\n",
    "        png_files.insert(0, f\"{png_prefix}.png\")\n",
    "    \n",
    "    for path in png_files:\n",
    "        add_margins_and_white_bg(path)\n",
    "\n"
   ]
  },
  {
   "cell_type": "code",
   "execution_count": 3,
   "metadata": {},
   "outputs": [],
   "source": [
    "midi_path = '../data/Boccherini-Minuet-Flute-and-Piano.mid'\n",
    "score = converter.parse(midi_path)\n",
    "\n",
    "tempi = list(score.recurse().getElementsByClass(tempo.MetronomeMark))\n",
    "if len(tempi) > 1:\n",
    "    for tm in tempi[1:]:\n",
    "        parent = tm.getContextByClass('Measure')\n",
    "        if parent:\n",
    "            parent.remove(tm)\n",
    "        else:\n",
    "            tm.activeSite.remove(tm)\n",
    "\n",
    "filename = os.path.splitext(os.path.basename(midi_path))[0]\n",
    "if score.metadata is None:\n",
    "    score.metadata = metadata.Metadata()\n",
    "score.metadata.title = filename\n",
    "\n",
    "\n",
    "output_path = f\"../output/{filename}\"\n",
    "score.write('musicxml.png', fp=f\"{output_path}.png\")\n",
    "\n",
    "fix_all_images(output_path)\n",
    "\n"
   ]
  },
  {
   "cell_type": "code",
   "execution_count": null,
   "metadata": {},
   "outputs": [],
   "source": []
  }
 ],
 "metadata": {
  "kernelspec": {
   "display_name": "Python (uv-env)",
   "language": "python",
   "name": "uv-venv"
  },
  "language_info": {
   "codemirror_mode": {
    "name": "ipython",
    "version": 3
   },
   "file_extension": ".py",
   "mimetype": "text/x-python",
   "name": "python",
   "nbconvert_exporter": "python",
   "pygments_lexer": "ipython3",
   "version": "3.9.23"
  }
 },
 "nbformat": 4,
 "nbformat_minor": 2
}
