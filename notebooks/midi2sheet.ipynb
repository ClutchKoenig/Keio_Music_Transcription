{
 "cells": [
  {
   "cell_type": "code",
   "execution_count": null,
   "metadata": {},
   "outputs": [
    {
     "name": "stdout",
     "output_type": "stream",
     "text": [
      "📂 MIDI-Folder: C:\\Users\\Basti\\Desktop\\Machine_Learning\\Project\\Keio_Music_Transcription\\output\\model_midi\n",
      "✅ exists: True\n",
      "📄 data: [WindowsPath('C:/Users/Basti/Desktop/Machine_Learning/Project/Keio_Music_Transcription/output/model_midi/OMORI_Final-Duet_basic_pitch.mid')]\n",
      "🎼 Found Midi Data: ['C:\\\\Users\\\\Basti\\\\Desktop\\\\Machine_Learning\\\\Project\\\\Keio_Music_Transcription/output/model_midi\\\\OMORI_Final-Duet_basic_pitch.mid']\n",
      "📁 directory path:\n",
      " c:\\Users\\Basti\\Desktop\\Machine_Learning\\Project\\Keio_Music_Transcription\\notebooks\\output\\model_midi\n",
      "{'directoryScratch': None, 'lilypondPath': 'c:\\\\Users\\\\Basti\\\\Desktop\\\\Machine_Learning\\\\Project\\\\Keio_Music_Transcription\\\\notebooks\\\\lilypond', 'lilypondVersion': None, 'lilypondFormat': 'pdf', 'lilypondBackend': 'ps', 'musicxmlPath': 'C:\\\\Program Files\\\\MuseScore 3\\\\bin\\\\MuseScore3.exe', 'midiPath': None, 'graphicsPath': None, 'vectorPath': None, 'pdfPath': None, 'braillePath': None, 'musescoreDirectPNGPath': 'C:\\\\Program Files\\\\MuseScore 3\\\\bin\\\\MuseScore3.exe', 'showFormat': 'musicxml', 'writeFormat': 'musicxml', 'ipythonShowFormat': 'ipython.musicxml.png', 'autoDownload': 'ask', 'debug': 0, 'warnings': 1, 'localCorpusSettings': LocalCorpusSettings([]), 'localCorporaSettings': {}, 'manualCoreCorpusPath': None}\n"
     ]
    }
   ],
   "source": [
    "from music21 import converter, environment, tempo, metadata\n",
    "import os\n",
    "import glob\n",
    "from PIL import Image\n",
    "import platform\n",
    "from pathlib import Path\n",
    "\n",
    "\n",
    "us = environment.UserSettings()\n",
    "# ======================================================================================\n",
    "# Added multiple paths to accomodate different systems\n",
    "if platform.system() == 'Windows':\n",
    "    # Paths for MS3 and 4\n",
    "    candidates = [\n",
    "        r\"C:\\Program Files\\MuseScore 4\\bin\\MuseScore4.exe\",\n",
    "        r\"C:\\Program Files\\MuseScore 3\\bin\\MuseScore3.exe\"\n",
    "    ]\n",
    "elif platform.system() == 'Darwin':  # macOS\n",
    "    candidates = [\n",
    "        \"/Applications/MuseScore 4.app/Contents/MacOS/mscore\",\n",
    "        \"/Applications/MuseScore 3.app/Contents/MacOS/mscore\"\n",
    "    ]\n",
    "else:  # Linux\n",
    "    candidates = [\n",
    "        \"/usr/bin/musescore4\",\n",
    "        \"/usr/bin/musescore3\",\n",
    "        \"/usr/bin/mscore\"\n",
    "    ]\n",
    "\n",
    "for path in candidates:\n",
    "    if os.path.exists(path):\n",
    "        us['musicxmlPath'] = path\n",
    "        us['musescoreDirectPNGPath'] = path\n",
    "        break\n",
    "else:\n",
    "    print(\"No MuseScore path found, please check your installation or used path.\")\n",
    "# Old Code\n",
    "# us = environment.UserSettings()\n",
    "# us['musicxmlPath'] = '/usr/bin/musescore3'\n",
    "\n",
    "# =========================================\n",
    "# Summary of needed directorys\n",
    "project_root = Path(os.getcwd()).resolve().parent\n",
    "output_dir = project_root / \"output\" / \"model_midi\"\n",
    "\n",
    "print(\"📂 MIDI-Folder:\", output_dir)\n",
    "print(\"✅ exists:\", output_dir.exists())\n",
    "print(\"📄 data:\", list(output_dir.glob(\"*.mid\")))\n",
    "\n",
    "print(environment.UserSettings())"
   ]
  },
  {
   "cell_type": "code",
   "execution_count": 24,
   "metadata": {},
   "outputs": [],
   "source": [
    "def add_margins_and_white_bg(image_path, top=20, right=60, bottom=20, left=60):\n",
    "    img = Image.open(image_path).convert(\"RGBA\")\n",
    "    new_width = img.width + left + right\n",
    "    new_height = img.height + top + bottom\n",
    "    background = Image.new(\"RGBA\", (new_width, new_height), (255, 255, 255, 255))\n",
    "    background.paste(img, (left, top), mask=img)\n",
    "    background.convert(\"RGB\").save(image_path, \"PNG\")\n",
    "\n",
    "def fix_all_images(png_prefix):\n",
    "    png_files = sorted(glob.glob(f\"{png_prefix}-*.png\"))\n",
    "    if os.path.exists(f\"{png_prefix}.png\"):\n",
    "        png_files.insert(0, f\"{png_prefix}.png\")\n",
    "    \n",
    "    for path in png_files:\n",
    "        add_margins_and_white_bg(path)\n",
    "\n"
   ]
  },
  {
   "cell_type": "code",
   "execution_count": null,
   "metadata": {},
   "outputs": [
    {
     "name": "stdout",
     "output_type": "stream",
     "text": [
      "../data/Boccherini-Minuet-Flute-and-Piano.mid\n",
      "Midi-Data Path:../data/Boccherini-Minuet-Flute-and-Piano.mid\n"
     ]
    }
   ],
   "source": [
    "midi_path = '../data/Boccherini-Minuet-Flute-and-Piano.mid'\n",
    "\n",
    "# ===================================================================================\n",
    "# Changes made: nothing really just wanted to test your programm for a Model Output, \n",
    "# but for some reason it doesn't really work. Still your file works idk \n",
    "song_name = 'OMORI_Final-Duet'\n",
    "output_dir = Path.cwd().parent / \"output\" # for some reason the output_dir defined in the above section didnt work\n",
    "output_dir.mkdir(exist_ok=True)             \n",
    "#midi_path = output_dir / f\"model_midi\" / f\"{song_name}_basic_pitch.mid\"\n",
    "\n",
    "print(midi_path)\n",
    "if not Path(midi_path).exists():\n",
    "     raise FileNotFoundError(f\"🚫 Datei nicht gefunden: {midi_path}\")\n",
    "print(f\"Midi-Data Path:{midi_path}\")\n",
    "# ===================================================== End added Code \n",
    "score = converter.parse(midi_path)\n",
    "\n",
    "tempi = list(score.recurse().getElementsByClass(tempo.MetronomeMark))\n",
    "if len(tempi) > 1:\n",
    "    for tm in tempi[1:]:\n",
    "        parent = tm.getContextByClass('Measure')\n",
    "        if parent:\n",
    "            parent.remove(tm)\n",
    "        else:\n",
    "            tm.activeSite.remove(tm)\n",
    "\n",
    "filename = os.path.splitext(os.path.basename(midi_path))[0]\n",
    "if score.metadata is None:\n",
    "    score.metadata = metadata.Metadata()\n",
    "score.metadata.title = filename\n",
    "\n",
    "output_path = f\"../output/{filename}\"\n",
    "score.write('musicxml.png', fp=f\"{output_path}.png\")\n",
    "\n",
    "fix_all_images(output_path)\n",
    "\n"
   ]
  },
  {
   "cell_type": "code",
   "execution_count": null,
   "metadata": {},
   "outputs": [],
   "source": []
  }
 ],
 "metadata": {
  "kernelspec": {
   "display_name": "myenv",
   "language": "python",
   "name": "python3"
  },
  "language_info": {
   "codemirror_mode": {
    "name": "ipython",
    "version": 3
   },
   "file_extension": ".py",
   "mimetype": "text/x-python",
   "name": "python",
   "nbconvert_exporter": "python",
   "pygments_lexer": "ipython3",
   "version": "3.11.13"
  }
 },
 "nbformat": 4,
 "nbformat_minor": 2
}
